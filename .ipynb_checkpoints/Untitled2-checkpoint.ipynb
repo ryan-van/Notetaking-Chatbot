{
 "cells": [
  {
   "cell_type": "code",
   "execution_count": 43,
   "metadata": {},
   "outputs": [],
   "source": [
    "import numpy as np\n",
    "import nltk\n",
    "import sklearn\n",
    "from nltk.corpus import stopwords, wordnet as wn\n",
    "from nltk.tokenize import word_tokenize\n",
    "from nltk.stem import WordNetLemmatizer"
   ]
  },
  {
   "cell_type": "code",
   "execution_count": 17,
   "metadata": {},
   "outputs": [],
   "source": [
    "take_words = ['take', 'remind', 'copy', 'keep', 'say', 'note']\n",
    "remove_words = ['remove', 'delete', 'erase', 'omit', 'discard', 'separate']\n",
    "placement = ['first', 'second', 'third', 'fourth', 'fifth']\n",
    "last_words = ['last', 'final', 'recent', 'new', 'newest']\n",
    "retrieve_words = ['retrieve', 'repeat', 'get', 'be', 'fetch', 'recover']"
   ]
  },
  {
   "cell_type": "code",
   "execution_count": 75,
   "metadata": {},
   "outputs": [],
   "source": [
    "word = 'mention'\n",
    "word_syn = word + '.v.1'\n",
    "\n",
    "wn.synset(word_syn)\n",
    "\n",
    "def return_scores(word):\n",
    "    word_syn = wn.synset(word + '.v.1')\n",
    "    flag = ''\n",
    "    if word in take_words:\n",
    "        flag = 'take'\n",
    "    elif word in remove_words:\n",
    "        flag = 'remove'\n",
    "    elif word in retrieve_words:\n",
    "        flag = 'retrieve'\n",
    "    else:\n",
    "        max_take = max([wn.synset(word_syn).lch_similarity(wn.synset(str(word) + '.v.1')) for word in take_words])\n",
    "        max_remove = max([wn.synset(word_syn).lch_similarity(wn.synset(str(word) + '.v.1')) for word in remove_words])\n",
    "        max_retrieve = max([wn.synset(word_syn).lch_similarity(wn.synset(str(word) + '.v.1')) for word in retrieve_words])\n",
    "        categories = ['take', 'remove', 'retrieve']\n",
    "        maxes = [max_take, max_remove, max_retrieve]\n",
    "        flag = categories[np.argmax(maxes)]\n",
    "    return flag"
   ]
  },
  {
   "cell_type": "code",
   "execution_count": 76,
   "metadata": {},
   "outputs": [
    {
     "name": "stdout",
     "output_type": "stream",
     "text": [
      "error\n"
     ]
    },
    {
     "data": {
      "text/plain": [
       "''"
      ]
     },
     "execution_count": 76,
     "metadata": {},
     "output_type": "execute_result"
    }
   ],
   "source": [
    "return_scores('hello')"
   ]
  },
  {
   "cell_type": "code",
   "execution_count": 35,
   "metadata": {},
   "outputs": [],
   "source": [
    "def get_response(flag):\n",
    "    if flag == \"take\":\n",
    "        return \"OK, what would you like me to say?\"\n",
    "    elif flag == \"remove\":\n",
    "        return \"OK, I've removed that\"\n",
    "    elif flag == \"retrieve\":\n",
    "        return \"Your last note was: \" + last_notes[len(last_notes) - 1]"
   ]
  },
  {
   "cell_type": "code",
   "execution_count": 36,
   "metadata": {},
   "outputs": [
    {
     "data": {
      "text/plain": [
       "'OK, what would you like me to say?'"
      ]
     },
     "execution_count": 36,
     "metadata": {},
     "output_type": "execute_result"
    }
   ],
   "source": [
    "get_response(flag)"
   ]
  },
  {
   "cell_type": "code",
   "execution_count": null,
   "metadata": {},
   "outputs": [],
   "source": [
    "def filter(s):\n",
    "    tokens = word_tokenize(s)\n",
    "    return [t for t in tokens if t not in set(stopwords.words('english'))]"
   ]
  },
  {
   "cell_type": "code",
   "execution_count": 58,
   "metadata": {},
   "outputs": [],
   "source": []
  },
  {
   "cell_type": "code",
   "execution_count": 60,
   "metadata": {},
   "outputs": [
    {
     "data": {
      "text/plain": [
       "['Hey', ',', 'please', 'take', 'note', '.']"
      ]
     },
     "execution_count": 60,
     "metadata": {},
     "output_type": "execute_result"
    }
   ],
   "source": [
    "asd = filter(\"Hey, please take a note for me.\")"
   ]
  },
  {
   "cell_type": "code",
   "execution_count": null,
   "metadata": {},
   "outputs": [],
   "source": [
    "for i in asd "
   ]
  }
 ],
 "metadata": {
  "kernelspec": {
   "display_name": "Python 3",
   "language": "python",
   "name": "python3"
  },
  "language_info": {
   "codemirror_mode": {
    "name": "ipython",
    "version": 3
   },
   "file_extension": ".py",
   "mimetype": "text/x-python",
   "name": "python",
   "nbconvert_exporter": "python",
   "pygments_lexer": "ipython3",
   "version": "3.6.7"
  }
 },
 "nbformat": 4,
 "nbformat_minor": 2
}
